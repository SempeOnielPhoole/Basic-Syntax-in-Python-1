{
  "cells": [
    {
      "cell_type": "markdown",
      "metadata": {
        "id": "view-in-github",
        "colab_type": "text"
      },
      "source": [
        "<a href=\"https://colab.research.google.com/github/SempeOnielPhoole/Basic-Syntax-in-Python-1/blob/main/Welcome_To_Colaboratory.ipynb\" target=\"_parent\"><img src=\"https://colab.research.google.com/assets/colab-badge.svg\" alt=\"Open In Colab\"/></a>"
      ]
    },
    {
      "cell_type": "code",
      "source": [
        "# comment in separate line\n",
        "# Hell0 learners\n",
        "x = 3\n",
        "x = x * 3  # multiply by 3; comment in same line\n",
        "\n",
        "\n",
        "print (x)\n",
        "\n",
        "# This is\n",
        "# Multiline\n",
        "# comment"
      ],
      "metadata": {
        "colab": {
          "base_uri": "https://localhost:8080/"
        },
        "id": "pbipv-mqC-26",
        "outputId": "495f7b66-4ff3-4c7f-89b4-496926c8e3d1"
      },
      "execution_count": 1,
      "outputs": [
        {
          "output_type": "stream",
          "name": "stdout",
          "text": [
            "9\n"
          ]
        }
      ]
    },
    {
      "cell_type": "code",
      "source": [
        "numOfLaptops = 3\n",
        "ownerName = \"Sempe Phoole\"\n",
        "print(\"Number of Laptops = \",numOfLaptops)\n",
        "print(\"Owners Name = \",ownerName)\n",
        "\n",
        "#Variable name begins with letter or underscore character\n",
        "#Alpha-numeric and underscore are allowed in the rest of name\n",
        "#Variable names are case-sensitive"
      ],
      "metadata": {
        "colab": {
          "base_uri": "https://localhost:8080/"
        },
        "id": "FxPVWxe-JFPV",
        "outputId": "d6204c63-ef23-4656-cc3a-a64300cedab5"
      },
      "execution_count": 2,
      "outputs": [
        {
          "output_type": "stream",
          "name": "stdout",
          "text": [
            "Number of Laptops =  3\n",
            "Owners Name =  Sempe Phoole\n"
          ]
        }
      ]
    },
    {
      "cell_type": "code",
      "source": [
        "     a = 10\n",
        "     b = 6\n",
        "     print (a + b)      #Addition\n",
        "     print (a - b)      #Subtraction\n",
        "     print (a * b)      #Multiplication\n",
        "     print (a / b)      #Division\n",
        "     print (a % b)      #Modulus\n",
        "     print (a ** b)     #exponentiation"
      ],
      "metadata": {
        "colab": {
          "base_uri": "https://localhost:8080/"
        },
        "id": "ARt59DfRVskd",
        "outputId": "c34e7a91-9d5f-40f2-d191-45228b9cff20"
      },
      "execution_count": 4,
      "outputs": [
        {
          "output_type": "stream",
          "name": "stdout",
          "text": [
            "16\n",
            "4\n",
            "60\n",
            "1.6666666666666667\n",
            "4\n",
            "1000000\n"
          ]
        }
      ]
    },
    {
      "cell_type": "code",
      "source": [
        "a = 5\n",
        "b = 8\n",
        "# Will return true if BOTH conditions true\n",
        "print(a > 3 and a < 7)\n",
        "\n",
        "#will return true if any one condition is true\n",
        "print(a > 6 or b < 7)\n",
        "\n",
        "# True if given condition is false\n",
        "print(not(a > 3))\n"
      ],
      "metadata": {
        "colab": {
          "base_uri": "https://localhost:8080/"
        },
        "id": "DdP7z6ygYs_V",
        "outputId": "fdb7a3d6-84d9-49db-e194-30df5998def2"
      },
      "execution_count": 5,
      "outputs": [
        {
          "output_type": "stream",
          "name": "stdout",
          "text": [
            "True\n",
            "False\n",
            "False\n"
          ]
        }
      ]
    },
    {
      "cell_type": "code",
      "source": [
        "city = input(\"Where do you live?\\n\")\n",
        "print(\"\\n The city you live is : \" + city)"
      ],
      "metadata": {
        "colab": {
          "base_uri": "https://localhost:8080/"
        },
        "id": "meJK_XnOa9v7",
        "outputId": "40476dbf-649c-44cb-ad25-e7c8e4827ec5"
      },
      "execution_count": 6,
      "outputs": [
        {
          "output_type": "stream",
          "name": "stdout",
          "text": [
            "Where do you live?\n",
            "North West, South Africa\n",
            "\n",
            " The city you live is : North West, South Africa\n"
          ]
        }
      ]
    }
  ],
  "metadata": {
    "colab": {
      "name": "Welcome To Colaboratory",
      "provenance": [],
      "include_colab_link": true
    },
    "kernelspec": {
      "display_name": "Python 3",
      "name": "python3"
    }
  },
  "nbformat": 4,
  "nbformat_minor": 0
}